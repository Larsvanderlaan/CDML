{
 "cells": [
  {
   "cell_type": "code",
   "execution_count": 5,
   "id": "3087f391-bb09-4025-a559-b31f918432ba",
   "metadata": {
    "collapsed": true,
    "jupyter": {
     "outputs_hidden": true
    },
    "scrolled": true
   },
   "outputs": [
    {
     "name": "stdout",
     "output_type": "stream",
     "text": [
      "Requirement already satisfied: numpy in /opt/homebrew/Cellar/jupyterlab/4.2.5_1/libexec/lib/python3.12/site-packages (1.26.4)\n",
      "Requirement already satisfied: pandas in /opt/homebrew/Cellar/jupyterlab/4.2.5_1/libexec/lib/python3.12/site-packages (2.2.3)\n",
      "Requirement already satisfied: pygam in /opt/homebrew/Cellar/jupyterlab/4.2.5_1/libexec/lib/python3.12/site-packages (0.9.1)\n",
      "Collecting xgboost\n",
      "  Downloading xgboost-2.1.2-py3-none-macosx_12_0_arm64.whl.metadata (2.1 kB)\n",
      "Requirement already satisfied: python-dateutil>=2.8.2 in /opt/homebrew/Cellar/jupyterlab/4.2.5_1/libexec/lib/python3.12/site-packages (from pandas) (2.9.0.post0)\n",
      "Requirement already satisfied: pytz>=2020.1 in /opt/homebrew/Cellar/jupyterlab/4.2.5_1/libexec/lib/python3.12/site-packages (from pandas) (2024.2)\n",
      "Requirement already satisfied: tzdata>=2022.7 in /opt/homebrew/Cellar/jupyterlab/4.2.5_1/libexec/lib/python3.12/site-packages (from pandas) (2024.2)\n",
      "Requirement already satisfied: progressbar2<5.0.0,>=4.2.0 in /opt/homebrew/Cellar/jupyterlab/4.2.5_1/libexec/lib/python3.12/site-packages (from pygam) (4.5.0)\n",
      "Requirement already satisfied: scipy<1.12,>=1.11.1 in /opt/homebrew/Cellar/jupyterlab/4.2.5_1/libexec/lib/python3.12/site-packages (from pygam) (1.11.4)\n",
      "Requirement already satisfied: python-utils>=3.8.1 in /opt/homebrew/Cellar/jupyterlab/4.2.5_1/libexec/lib/python3.12/site-packages (from progressbar2<5.0.0,>=4.2.0->pygam) (3.9.0)\n",
      "Requirement already satisfied: six>=1.5 in /opt/homebrew/Cellar/jupyterlab/4.2.5_1/libexec/lib/python3.12/site-packages (from python-dateutil>=2.8.2->pandas) (1.16.0)\n",
      "Requirement already satisfied: typing-extensions>3.10.0.2 in /opt/homebrew/Cellar/jupyterlab/4.2.5_1/libexec/lib/python3.12/site-packages (from python-utils>=3.8.1->progressbar2<5.0.0,>=4.2.0->pygam) (4.12.2)\n",
      "Downloading xgboost-2.1.2-py3-none-macosx_12_0_arm64.whl (1.9 MB)\n",
      "\u001b[2K   \u001b[90m━━━━━━━━━━━━━━━━━━━━━━━━━━━━━━━━━━━━━━━━\u001b[0m \u001b[32m1.9/1.9 MB\u001b[0m \u001b[31m3.4 MB/s\u001b[0m eta \u001b[36m0:00:00\u001b[0ma \u001b[36m0:00:01\u001b[0m\n",
      "\u001b[?25hInstalling collected packages: xgboost\n",
      "Successfully installed xgboost-2.1.2\n",
      "\n",
      "\u001b[1m[\u001b[0m\u001b[34;49mnotice\u001b[0m\u001b[1;39;49m]\u001b[0m\u001b[39;49m A new release of pip is available: \u001b[0m\u001b[31;49m24.2\u001b[0m\u001b[39;49m -> \u001b[0m\u001b[32;49m24.3.1\u001b[0m\n",
      "\u001b[1m[\u001b[0m\u001b[34;49mnotice\u001b[0m\u001b[1;39;49m]\u001b[0m\u001b[39;49m To update, run: \u001b[0m\u001b[32;49m/opt/homebrew/Cellar/jupyterlab/4.2.5_1/libexec/bin/python -m pip install --upgrade pip\u001b[0m\n"
     ]
    }
   ],
   "source": [
    "\n",
    "!/opt/homebrew/Cellar/jupyterlab/4.2.5_1/libexec/bin/python -m pip install numpy pandas pygam xgboost\n"
   ]
  },
  {
   "cell_type": "code",
   "execution_count": null,
   "id": "7372f748-52e8-495b-b42f-74cf0e981e24",
   "metadata": {},
   "outputs": [
    {
     "name": "stdout",
     "output_type": "stream",
     "text": [
      "Estimated ATE using ICDML:\n",
      "            estimand  estimate  lower_bound  upper_bound\n",
      "0  E[Y(1)] - E[Y(0)]  2.010552     1.909372     2.111731\n"
     ]
    }
   ],
   "source": [
    "import numpy as np\n",
    "import pandas as pd\n",
    "from pygam import LogisticGAM, LinearGAM, s\n",
    "from cdml import *\n",
    "\n",
    "# Generate simulated data\n",
    "np.random.seed(42)\n",
    "n = 1000  # Number of observations\n",
    "\n",
    "# Covariates: Uniform distribution between -1 and 1\n",
    "X = np.random.uniform(-1, 1, size=(n, 3)).reshape(n,-1)\n",
    "\n",
    "# Logistic treatment assignment based on covariates\n",
    "logit_p = 1 / (1 + np.exp(-3*np.dot(X, np.array([0.5, -0.3, 0.2]))))\n",
    "A = np.random.binomial(1, logit_p)\n",
    "\n",
    "# Outcome generation\n",
    "Y = 1 + 2 * A + 0.5 * np.random.normal(size=n)  # Simple linear treatment effect with noise\n",
    "\n",
    "# Train outcome model using GAM (separately for control and treatment groups)\n",
    "outcome_model_control = LinearGAM(s(0) + s(1) + s(2)).fit(X[A == 0], Y[A == 0])\n",
    "outcome_model_treatment = LinearGAM(s(0) + s(1) + s(2)).fit(X[A == 1], Y[A == 1])\n",
    "\n",
    "# Predicted outcome matrix\n",
    "mu_mat = np.column_stack((\n",
    "    outcome_model_control.predict(X),\n",
    "    outcome_model_treatment.predict(X)\n",
    "))\n",
    "\n",
    "# Train propensity model using GAM\n",
    "propensity_model = LogisticGAM(s(0) + s(1) + s(2)).fit(X, A)\n",
    "\n",
    "# Propensity score matrix\n",
    "pi_mat = np.column_stack((\n",
    "    1 - propensity_model.predict_proba(X),  # Probability of control\n",
    "    propensity_model.predict_proba(X)       # Probability of treatment\n",
    "))\n",
    "\n",
    "# Apply the estimator to ATE\n",
    "ate_estimates = estimate_cdml_ate(A, Y, mu_mat, pi_mat)\n",
    "print(\"Estimated ATE using ICDML:\")\n",
    "print(ate_estimates)\n",
    "\n",
    "# Apply the bootstrap estimator\n",
    "ate_bootstrap_results = bootstrap_cdml_ate(A, Y, mu_mat, pi_mat)\n",
    "print(\"\\nBootstrap ATE Results with Confidence Intervals:\")\n",
    "print(ate_bootstrap_results)\n",
    "\n",
    "\n",
    "# Apply the estimator to mean outcomes\n",
    "ate_estimates = estimate_cdml_ate(A, Y, mu_mat, pi_mat, control_level = None)\n",
    "print(\"\\nEstimated ATE using ICDML:\")\n",
    "print(ate_estimates)\n",
    "\n",
    "# Apply the bootstrap estimator\n",
    "ate_bootstrap_results = bootstrap_cdml_ate(A, Y, mu_mat, pi_mat, control_level = None)\n",
    "print(\"\\nBootstrap ATE Results with Confidence Intervals:\")\n",
    "print(ate_bootstrap_results)\n"
   ]
  },
  {
   "cell_type": "code",
   "execution_count": null,
   "id": "46ec3d69-7411-4c0a-aa0a-515100bdea57",
   "metadata": {},
   "outputs": [],
   "source": []
  }
 ],
 "metadata": {
  "kernelspec": {
   "display_name": "Python 3 (ipykernel)",
   "language": "python",
   "name": "python3"
  },
  "language_info": {
   "codemirror_mode": {
    "name": "ipython",
    "version": 3
   },
   "file_extension": ".py",
   "mimetype": "text/x-python",
   "name": "python",
   "nbconvert_exporter": "python",
   "pygments_lexer": "ipython3",
   "version": "3.12.7"
  }
 },
 "nbformat": 4,
 "nbformat_minor": 5
}
