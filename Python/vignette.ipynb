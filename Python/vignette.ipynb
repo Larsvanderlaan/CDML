{
 "cells": [
  {
   "cell_type": "code",
   "execution_count": 3,
   "id": "3087f391-bb09-4025-a559-b31f918432ba",
   "metadata": {},
   "outputs": [
    {
     "name": "stdout",
     "output_type": "stream",
     "text": [
      "Collecting numpy\n",
      "  Downloading numpy-2.1.3-cp312-cp312-macosx_11_0_arm64.whl.metadata (62 kB)\n",
      "Collecting pandas\n",
      "  Downloading pandas-2.2.3-cp312-cp312-macosx_11_0_arm64.whl.metadata (89 kB)\n",
      "Collecting pygam\n",
      "  Downloading pygam-0.9.1-py3-none-any.whl.metadata (7.1 kB)\n",
      "Requirement already satisfied: python-dateutil>=2.8.2 in /opt/homebrew/Cellar/jupyterlab/4.2.5_1/libexec/lib/python3.12/site-packages (from pandas) (2.9.0.post0)\n",
      "Collecting pytz>=2020.1 (from pandas)\n",
      "  Downloading pytz-2024.2-py2.py3-none-any.whl.metadata (22 kB)\n",
      "Collecting tzdata>=2022.7 (from pandas)\n",
      "  Downloading tzdata-2024.2-py2.py3-none-any.whl.metadata (1.4 kB)\n",
      "Collecting progressbar2<5.0.0,>=4.2.0 (from pygam)\n",
      "  Downloading progressbar2-4.5.0-py3-none-any.whl.metadata (16 kB)\n",
      "Collecting scipy<1.12,>=1.11.1 (from pygam)\n",
      "  Downloading scipy-1.11.4-cp312-cp312-macosx_12_0_arm64.whl.metadata (217 kB)\n",
      "Collecting python-utils>=3.8.1 (from progressbar2<5.0.0,>=4.2.0->pygam)\n",
      "  Downloading python_utils-3.9.0-py2.py3-none-any.whl.metadata (9.8 kB)\n",
      "Requirement already satisfied: six>=1.5 in /opt/homebrew/Cellar/jupyterlab/4.2.5_1/libexec/lib/python3.12/site-packages (from python-dateutil>=2.8.2->pandas) (1.16.0)\n",
      "Collecting numpy\n",
      "  Downloading numpy-1.26.4-cp312-cp312-macosx_11_0_arm64.whl.metadata (61 kB)\n",
      "Collecting typing-extensions>3.10.0.2 (from python-utils>=3.8.1->progressbar2<5.0.0,>=4.2.0->pygam)\n",
      "  Downloading typing_extensions-4.12.2-py3-none-any.whl.metadata (3.0 kB)\n",
      "Downloading pandas-2.2.3-cp312-cp312-macosx_11_0_arm64.whl (11.4 MB)\n",
      "\u001b[2K   \u001b[90m━━━━━━━━━━━━━━━━━━━━━━━━━━━━━━━━━━━━━━━━\u001b[0m \u001b[32m11.4/11.4 MB\u001b[0m \u001b[31m11.8 MB/s\u001b[0m eta \u001b[36m0:00:00\u001b[0ma \u001b[36m0:00:01\u001b[0m\n",
      "\u001b[?25hDownloading pygam-0.9.1-py3-none-any.whl (522 kB)\n",
      "Downloading progressbar2-4.5.0-py3-none-any.whl (57 kB)\n",
      "Downloading pytz-2024.2-py2.py3-none-any.whl (508 kB)\n",
      "Downloading scipy-1.11.4-cp312-cp312-macosx_12_0_arm64.whl (29.6 MB)\n",
      "\u001b[2K   \u001b[90m━━━━━━━━━━━━━━━━━━━━━━━━━━━━━━━━━━━━━━━━\u001b[0m \u001b[32m29.6/29.6 MB\u001b[0m \u001b[31m3.3 MB/s\u001b[0m eta \u001b[36m0:00:00\u001b[0m00:01\u001b[0m00:01\u001b[0m\n",
      "\u001b[?25hDownloading numpy-1.26.4-cp312-cp312-macosx_11_0_arm64.whl (13.7 MB)\n",
      "\u001b[2K   \u001b[90m━━━━━━━━━━━━━━━━━━━━━━━━━━━━━━━━━━━━━━━━\u001b[0m \u001b[32m13.7/13.7 MB\u001b[0m \u001b[31m3.1 MB/s\u001b[0m eta \u001b[36m0:00:00\u001b[0m00:01\u001b[0m00:01\u001b[0m\n",
      "\u001b[?25hDownloading tzdata-2024.2-py2.py3-none-any.whl (346 kB)\n",
      "Downloading python_utils-3.9.0-py2.py3-none-any.whl (32 kB)\n",
      "Downloading typing_extensions-4.12.2-py3-none-any.whl (37 kB)\n",
      "Installing collected packages: pytz, tzdata, typing-extensions, numpy, scipy, python-utils, pandas, progressbar2, pygam\n",
      "Successfully installed numpy-1.26.4 pandas-2.2.3 progressbar2-4.5.0 pygam-0.9.1 python-utils-3.9.0 pytz-2024.2 scipy-1.11.4 typing-extensions-4.12.2 tzdata-2024.2\n",
      "\n",
      "\u001b[1m[\u001b[0m\u001b[34;49mnotice\u001b[0m\u001b[1;39;49m]\u001b[0m\u001b[39;49m A new release of pip is available: \u001b[0m\u001b[31;49m24.2\u001b[0m\u001b[39;49m -> \u001b[0m\u001b[32;49m24.3.1\u001b[0m\n",
      "\u001b[1m[\u001b[0m\u001b[34;49mnotice\u001b[0m\u001b[1;39;49m]\u001b[0m\u001b[39;49m To update, run: \u001b[0m\u001b[32;49m/opt/homebrew/Cellar/jupyterlab/4.2.5_1/libexec/bin/python -m pip install --upgrade pip\u001b[0m\n"
     ]
    }
   ],
   "source": [
    "\n",
    "!/opt/homebrew/Cellar/jupyterlab/4.2.5_1/libexec/bin/python -m pip install numpy pandas pygam\n"
   ]
  },
  {
   "cell_type": "code",
   "execution_count": 3,
   "id": "7372f748-52e8-495b-b42f-74cf0e981e24",
   "metadata": {},
   "outputs": [
    {
     "ename": "ModuleNotFoundError",
     "evalue": "No module named 'numpy'",
     "output_type": "error",
     "traceback": [
      "\u001b[0;31m---------------------------------------------------------------------------\u001b[0m",
      "\u001b[0;31mModuleNotFoundError\u001b[0m                       Traceback (most recent call last)",
      "Cell \u001b[0;32mIn[3], line 1\u001b[0m\n\u001b[0;32m----> 1\u001b[0m \u001b[38;5;28;01mimport\u001b[39;00m \u001b[38;5;21;01mnumpy\u001b[39;00m \u001b[38;5;28;01mas\u001b[39;00m \u001b[38;5;21;01mnp\u001b[39;00m\n\u001b[1;32m      2\u001b[0m \u001b[38;5;28;01mimport\u001b[39;00m \u001b[38;5;21;01mpandas\u001b[39;00m \u001b[38;5;28;01mas\u001b[39;00m \u001b[38;5;21;01mpd\u001b[39;00m\n\u001b[1;32m      3\u001b[0m \u001b[38;5;28;01mfrom\u001b[39;00m \u001b[38;5;21;01mpygam\u001b[39;00m \u001b[38;5;28;01mimport\u001b[39;00m LogisticGAM, LinearGAM, s\n",
      "\u001b[0;31mModuleNotFoundError\u001b[0m: No module named 'numpy'"
     ]
    }
   ],
   "source": [
    "import numpy as np\n",
    "import pandas as pd\n",
    "from pygam import LogisticGAM, LinearGAM, s\n",
    "from calibrate_nuisances import estimate_cdml_ate, bootstrap_cdml_ate\n",
    "\n",
    "# Generate simulated data\n",
    "np.random.seed(42)\n",
    "n = 1000  # Number of observations\n",
    "\n",
    "# Covariates: Uniform distribution between -1 and 1\n",
    "X = np.random.uniform(-1, 1, size=(n, 3))\n",
    "\n",
    "# Logistic treatment assignment based on covariates\n",
    "logit_p = 1 / (1 + np.exp(-np.dot(X, np.array([0.5, -0.3, 0.2]))))\n",
    "A = np.random.binomial(1, logit_p)\n",
    "\n",
    "# Outcome generation\n",
    "Y = 1 + 2 * A + 0.5 * np.random.normal(size=n)  # Simple linear treatment effect with noise\n",
    "\n",
    "# Train outcome model using GAM (separately for control and treatment groups)\n",
    "outcome_model_control = LinearGAM(s(0) + s(1) + s(2)).fit(X[A == 0], Y[A == 0])\n",
    "outcome_model_treatment = LinearGAM(s(0) + s(1) + s(2)).fit(X[A == 1], Y[A == 1])\n",
    "\n",
    "# Predicted outcome matrix\n",
    "mu_mat = np.column_stack((\n",
    "    outcome_model_control.predict(X),\n",
    "    outcome_model_treatment.predict(X)\n",
    "))\n",
    "\n",
    "# Train propensity model using GAM\n",
    "propensity_model = LogisticGAM(s(0) + s(1) + s(2)).fit(X, A)\n",
    "\n",
    "# Propensity score matrix\n",
    "pi_mat = np.column_stack((\n",
    "    1 - propensity_model.predict_proba(X),  # Probability of control\n",
    "    propensity_model.predict_proba(X)       # Probability of treatment\n",
    "))\n",
    "\n",
    "# Apply the estimator\n",
    "ate_estimates = estimate_cdml_ate(A, Y, mu_mat, pi_mat)\n",
    "print(\"Estimated ATE using ICDML:\")\n",
    "print(ate_estimates)\n",
    "\n",
    "# Apply the bootstrap estimator\n",
    "ate_bootstrap_results = bootstrap_cdml_ate(A, Y, mu_mat, pi_mat)\n",
    "print(\"\\nBootstrap ATE Results with Confidence Intervals:\")\n",
    "print(ate_bootstrap_results)\n"
   ]
  },
  {
   "cell_type": "code",
   "execution_count": null,
   "id": "46ec3d69-7411-4c0a-aa0a-515100bdea57",
   "metadata": {},
   "outputs": [],
   "source": []
  }
 ],
 "metadata": {
  "kernelspec": {
   "display_name": "Python 3 (ipykernel)",
   "language": "python",
   "name": "python3"
  },
  "language_info": {
   "codemirror_mode": {
    "name": "ipython",
    "version": 3
   },
   "file_extension": ".py",
   "mimetype": "text/x-python",
   "name": "python",
   "nbconvert_exporter": "python",
   "pygments_lexer": "ipython3",
   "version": "3.12.7"
  }
 },
 "nbformat": 4,
 "nbformat_minor": 5
}
